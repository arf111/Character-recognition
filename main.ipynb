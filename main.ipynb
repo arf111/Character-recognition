{
 "cells": [
  {
   "cell_type": "code",
   "execution_count": 36,
   "metadata": {},
   "outputs": [],
   "source": [
    "import os\n",
    "import numpy as np\n",
    "import cv2\n",
    "import pickle\n",
    "import matplotlib.pyplot as plt \n",
    "from sklearn.pipeline import Pipeline\n",
    "from sklearn.svm import SVC\n",
    "from sklearn.model_selection import train_test_split\n",
    "from sklearn.model_selection import GridSearchCV\n",
    "from sklearn.metrics import classification_report \n",
    "from sklearn.externals.joblib import dump, load\n",
    "\n",
    "X = []\n",
    "y = []"
   ]
  },
  {
   "cell_type": "code",
   "execution_count": 37,
   "metadata": {},
   "outputs": [
    {
     "name": "stdout",
     "output_type": "stream",
     "text": [
      "(7705, 900, 1)\n"
     ]
    }
   ],
   "source": [
    "# hog = cv2.HOGDescriptor()\n",
    "\n",
    "for path, subdirs, files in os.walk('dataset/English/Img/GoodImg/Bmp/'):\n",
    "    for filename in files:\n",
    "        f = os.path.join(path, filename)  # filename: 'img001-0004.png'\n",
    "        target = filename[3:filename.index('-')]  # target: 001\n",
    "        img = cv2.medianBlur(img,5) # median blur to remove salt & and pepper noise\n",
    "        img = cv2.imread(f, 0)  # load a color image into greyscale image\n",
    "#         img_hog = hog.compute(img)\n",
    "\n",
    "        img_resized = cv2.resize(img,(30,30))\n",
    "        \n",
    "        X.append(img_resized.reshape(-1,1))\n",
    "        y.append(target)\n",
    "\n",
    "# Shape [7705, 900, 1] => 7705 ta sample, 900(30x30) hocche pixel values\n",
    "X = np.array(X)\n",
    "print(X.shape)\n",
    "X = X.reshape(X.shape[:2]) # just removing the singleton dimension. Now shape = [7705,900]"
   ]
  },
  {
   "cell_type": "code",
   "execution_count": 38,
   "metadata": {},
   "outputs": [],
   "source": [
    "X_train, X_test, y_train, y_test = train_test_split(X, y, test_size=.1)"
   ]
  },
  {
   "cell_type": "code",
   "execution_count": 21,
   "metadata": {},
   "outputs": [
    {
     "name": "stderr",
     "output_type": "stream",
     "text": [
      "c:\\program files\\python36\\lib\\site-packages\\sklearn\\model_selection\\_split.py:2053: FutureWarning: You should specify a value for 'cv' instead of relying on the default value. The default value will change from 3 to 5 in version 0.22.\n",
      "  warnings.warn(CV_WARNING, FutureWarning)\n",
      "[Parallel(n_jobs=3)]: Using backend LokyBackend with 3 concurrent workers.\n"
     ]
    },
    {
     "name": "stdout",
     "output_type": "stream",
     "text": [
      "Fitting 3 folds for each of 30 candidates, totalling 90 fits\n"
     ]
    },
    {
     "name": "stderr",
     "output_type": "stream",
     "text": [
      "[Parallel(n_jobs=3)]: Done  44 tasks      | elapsed: 43.8min\n",
      "[Parallel(n_jobs=3)]: Done  90 out of  90 | elapsed: 87.1min finished\n"
     ]
    },
    {
     "name": "stdout",
     "output_type": "stream",
     "text": [
      "training ended\n"
     ]
    }
   ],
   "source": [
    "pipeline = Pipeline([\n",
    "        ('clf', SVC(kernel='rbf', gamma=0.01, C=100))\n",
    "])\n",
    "\n",
    "parameters = {\n",
    "        'clf__gamma': (0.01, 0.03, 0.1, 0.3, 1),\n",
    "        'clf__C': (0.1, 0.3, 1, 3, 10, 30),\n",
    "}\n",
    "    \n",
    "grid_search = GridSearchCV(pipeline, parameters, n_jobs=3, verbose=1, scoring='accuracy')\n",
    "\n",
    "grid_search.fit(X_train, y_train)\n",
    "print(\"training ended\")"
   ]
  },
  {
   "cell_type": "code",
   "execution_count": 39,
   "metadata": {},
   "outputs": [
    {
     "name": "stdout",
     "output_type": "stream",
     "text": [
      "Best score: 0.071\n",
      "Test score: 0.922\n"
     ]
    }
   ],
   "source": [
    "# dump(grid_search,'GridSearchNoBlur.joblib') # save model\n",
    "\n",
    "grid_search = load('GridSearchMedianBlur.joblib') # load the model.\n",
    "test_performance = grid_search.score(X_test, y_test)\n",
    "\n",
    "print('Best score: %0.3f' % grid_search.best_score_)\n",
    "print('Test score: %0.3f' % test_performance)"
   ]
  },
  {
   "cell_type": "code",
   "execution_count": 7,
   "metadata": {},
   "outputs": [
    {
     "name": "stdout",
     "output_type": "stream",
     "text": [
      "              precision    recall  f1-score   support\n",
      "\n",
      "         001       1.00      0.50      0.67         2\n",
      "         002       1.00      1.00      1.00         2\n",
      "         003       1.00      0.83      0.91         6\n",
      "         004       1.00      1.00      1.00         5\n",
      "         005       1.00      1.00      1.00         4\n",
      "         006       1.00      1.00      1.00         4\n",
      "         007       1.00      1.00      1.00         5\n",
      "         008       0.00      0.00      0.00         2\n",
      "         009       1.00      0.67      0.80         3\n",
      "         010       1.00      1.00      1.00         2\n",
      "         011       0.45      1.00      0.62        42\n",
      "         012       1.00      0.90      0.95        10\n",
      "         013       1.00      0.88      0.94        17\n",
      "         014       1.00      0.94      0.97        16\n",
      "         015       1.00      0.93      0.96        28\n",
      "         016       1.00      1.00      1.00         4\n",
      "         017       1.00      1.00      1.00        11\n",
      "         018       1.00      0.82      0.90        11\n",
      "         019       1.00      1.00      1.00        13\n",
      "         020       1.00      0.80      0.89         5\n",
      "         021       1.00      0.83      0.91         6\n",
      "         022       1.00      0.93      0.97        15\n",
      "         023       1.00      1.00      1.00        15\n",
      "         024       1.00      0.86      0.93        29\n",
      "         025       1.00      0.86      0.92        28\n",
      "         026       1.00      1.00      1.00        13\n",
      "         027       1.00      1.00      1.00         4\n",
      "         028       1.00      0.79      0.88        29\n",
      "         029       1.00      1.00      1.00        25\n",
      "         030       1.00      0.78      0.88        18\n",
      "         031       1.00      0.83      0.91         6\n",
      "         032       1.00      0.80      0.89         5\n",
      "         033       1.00      1.00      1.00         4\n",
      "         034       1.00      1.00      1.00         9\n",
      "         035       1.00      1.00      1.00         9\n",
      "         036       1.00      0.86      0.92         7\n",
      "         037       1.00      1.00      1.00         7\n",
      "         038       1.00      1.00      1.00         1\n",
      "         039       1.00      1.00      1.00         4\n",
      "         040       1.00      1.00      1.00         3\n",
      "         041       1.00      0.83      0.91        18\n",
      "         042       1.00      0.83      0.91         6\n",
      "         043       1.00      1.00      1.00         3\n",
      "         044       1.00      1.00      1.00         1\n",
      "         045       1.00      0.50      0.67         2\n",
      "         046       1.00      1.00      1.00         2\n",
      "         047       1.00      1.00      1.00         2\n",
      "         048       1.00      1.00      1.00         1\n",
      "         049       1.00      1.00      1.00         4\n",
      "         050       1.00      1.00      1.00        12\n",
      "         051       1.00      0.88      0.93         8\n",
      "         052       1.00      1.00      1.00         2\n",
      "         053       1.00      0.40      0.57         5\n",
      "         054       1.00      1.00      1.00         2\n",
      "         055       1.00      1.00      1.00         8\n",
      "         056       1.00      1.00      1.00         5\n",
      "         057       1.00      1.00      1.00         2\n",
      "         058       1.00      0.50      0.67         2\n",
      "         059       1.00      0.50      0.67         4\n",
      "         060       1.00      0.75      0.86         4\n",
      "         061       1.00      1.00      1.00         4\n",
      "         062       1.00      0.67      0.80         6\n",
      "\n",
      "   micro avg       0.90      0.90      0.90       532\n",
      "   macro avg       0.97      0.88      0.92       532\n",
      "weighted avg       0.95      0.90      0.91       532\n",
      "\n"
     ]
    },
    {
     "name": "stderr",
     "output_type": "stream",
     "text": [
      "c:\\program files\\python36\\lib\\site-packages\\sklearn\\metrics\\classification.py:1143: UndefinedMetricWarning: Precision and F-score are ill-defined and being set to 0.0 in labels with no predicted samples.\n",
      "  'precision', 'predicted', average, warn_for)\n"
     ]
    }
   ],
   "source": [
    "predictions = grid_search.predict(X_test)\n",
    "    \n",
    "print(classification_report(y_test, predictions))"
   ]
  },
  {
   "cell_type": "code",
   "execution_count": null,
   "metadata": {},
   "outputs": [],
   "source": []
  }
 ],
 "metadata": {
  "kernelspec": {
   "display_name": "Python 3",
   "language": "python",
   "name": "python3"
  },
  "language_info": {
   "codemirror_mode": {
    "name": "ipython",
    "version": 3
   },
   "file_extension": ".py",
   "mimetype": "text/x-python",
   "name": "python",
   "nbconvert_exporter": "python",
   "pygments_lexer": "ipython3",
   "version": "3.6.5"
  }
 },
 "nbformat": 4,
 "nbformat_minor": 2
}
