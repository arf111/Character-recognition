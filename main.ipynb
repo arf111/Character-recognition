{
 "cells": [
  {
   "cell_type": "code",
<<<<<<< HEAD:.ipynb_checkpoints/project-checkpoint.ipynb
   "execution_count": 2,
=======
   "execution_count": 36,
>>>>>>> 1ff76aefd8c338d9ab3c62353d42d4cd5b726245:main.ipynb
   "metadata": {},
   "outputs": [],
   "source": [
    "import os\n",
    "import numpy as np\n",
    "import cv2\n",
    "import pickle\n",
    "import matplotlib.pyplot as plt \n",
    "from sklearn.pipeline import Pipeline\n",
    "from sklearn.svm import SVC\n",
    "from sklearn.model_selection import train_test_split\n",
    "from sklearn.model_selection import GridSearchCV\n",
    "from sklearn.metrics import classification_report \n",
    "from sklearn.externals.joblib import dump, load\n",
    "\n",
    "X = []\n",
    "y = []"
   ]
  },
  {
   "cell_type": "code",
<<<<<<< HEAD:.ipynb_checkpoints/project-checkpoint.ipynb
   "execution_count": 4,
=======
   "execution_count": 37,
>>>>>>> 1ff76aefd8c338d9ab3c62353d42d4cd5b726245:main.ipynb
   "metadata": {},
   "outputs": [
    {
     "name": "stdout",
     "output_type": "stream",
     "text": [
      "(7705, 900, 1)\n"
     ]
    }
   ],
   "source": [
    "# hog = cv2.HOGDescriptor()\n",
    "\n",
    "for path, subdirs, files in os.walk('dataset/English/Img/GoodImg/Bmp/'):\n",
    "    for filename in files:\n",
    "        f = os.path.join(path, filename)  # filename: 'img001-0004.png'\n",
    "        target = filename[3:filename.index('-')]  # target: 001\n",
    "        #img = cv2.medianBlur(img,5) # median blur to remove salt & and pepper noise\n",
    "        img = cv2.imread(f, 0)  # load a color image into greyscale image\n",
    "        img = cv2.GaussianBlur(img, (5,5), 0) #gaussian filter\n",
    "#       img_hog = hog.compute(img)\n",
    "\n",
    "        img_resized = cv2.resize(img,(30,30))\n",
    "        \n",
    "        X.append(img_resized.reshape(-1,1))\n",
    "        y.append(target)\n",
    "\n",
    "# Shape [7705, 900, 1] => 7705 ta sample, 900(30x30) hocche pixel values\n",
    "X = np.array(X)\n",
    "print(X.shape)\n",
    "X = X.reshape(X.shape[:2]) # just removing the singleton dimension. Now shape = [7705,900]"
   ]
  },
  {
   "cell_type": "code",
<<<<<<< HEAD:.ipynb_checkpoints/project-checkpoint.ipynb
   "execution_count": 5,
=======
   "execution_count": 38,
>>>>>>> 1ff76aefd8c338d9ab3c62353d42d4cd5b726245:main.ipynb
   "metadata": {},
   "outputs": [],
   "source": [
    "X_train, X_test, y_train, y_test = train_test_split(X, y, test_size=.1)"
   ]
  },
  {
   "cell_type": "code",
<<<<<<< HEAD:.ipynb_checkpoints/project-checkpoint.ipynb
   "execution_count": 6,
=======
   "execution_count": 21,
>>>>>>> 1ff76aefd8c338d9ab3c62353d42d4cd5b726245:main.ipynb
   "metadata": {},
   "outputs": [
    {
     "name": "stdout",
     "output_type": "stream",
     "text": [
      "Fitting 3 folds for each of 30 candidates, totalling 90 fits\n"
     ]
    },
    {
     "name": "stderr",
     "output_type": "stream",
     "text": [
      "[Parallel(n_jobs=3)]: Done  44 tasks      | elapsed: 42.1min\n",
      "[Parallel(n_jobs=3)]: Done  90 out of  90 | elapsed: 84.1min finished\n"
     ]
    },
    {
     "name": "stdout",
     "output_type": "stream",
     "text": [
<<<<<<< HEAD:.ipynb_checkpoints/project-checkpoint.ipynb
=======
      "[Parallel(n_jobs=3)]: Done  44 tasks      | elapsed: 43.8min\n",
      "[Parallel(n_jobs=3)]: Done  90 out of  90 | elapsed: 87.1min finished\n"
     ]
    },
    {
     "name": "stdout",
     "output_type": "stream",
     "text": [
>>>>>>> 1ff76aefd8c338d9ab3c62353d42d4cd5b726245:main.ipynb
      "training ended\n"
     ]
    }
   ],
   "source": [
    "pipeline = Pipeline([\n",
    "        ('clf', SVC(kernel='rbf', gamma=0.01, C=100))\n",
    "])\n",
    "\n",
    "parameters = {\n",
    "        'clf__gamma': (0.01, 0.03, 0.1, 0.3, 1),\n",
    "        'clf__C': (0.1, 0.3, 1, 3, 10, 30),\n",
    "}\n",
    "    \n",
    "grid_search = GridSearchCV(pipeline, parameters, n_jobs=3, verbose=1, scoring='accuracy')\n",
    "\n",
    "grid_search.fit(X_train, y_train)\n",
    "print(\"training ended\")"
   ]
  },
  {
   "cell_type": "code",
<<<<<<< HEAD:.ipynb_checkpoints/project-checkpoint.ipynb
   "execution_count": 7,
=======
   "execution_count": 39,
>>>>>>> 1ff76aefd8c338d9ab3c62353d42d4cd5b726245:main.ipynb
   "metadata": {},
   "outputs": [
    {
     "name": "stdout",
     "output_type": "stream",
     "text": [
<<<<<<< HEAD:.ipynb_checkpoints/project-checkpoint.ipynb
      "Best score: 0.073\n",
      "Test score: 0.077\n"
=======
      "Best score: 0.071\n",
      "Test score: 0.922\n"
>>>>>>> 1ff76aefd8c338d9ab3c62353d42d4cd5b726245:main.ipynb
     ]
    }
   ],
   "source": [
<<<<<<< HEAD:.ipynb_checkpoints/project-checkpoint.ipynb
    "dump(grid_search,'GridSearchGaussianBlur.joblib') # save model\n",
=======
    "# dump(grid_search,'GridSearchNoBlur.joblib') # save model\n",
>>>>>>> 1ff76aefd8c338d9ab3c62353d42d4cd5b726245:main.ipynb
    "\n",
    "grid_search = load('GridSearchMedianBlur.joblib') # load the model.\n",
    "test_performance = grid_search.score(X_test, y_test)\n",
    "\n",
    "print('Best score: %0.3f' % grid_search.best_score_)\n",
    "print('Test score: %0.3f' % test_performance)"
   ]
  },
  {
   "cell_type": "code",
   "execution_count": 8,
   "metadata": {},
   "outputs": [
    {
     "name": "stdout",
     "output_type": "stream",
     "text": [
      "             precision    recall  f1-score   support\n",
      "\n",
      "        001       0.00      0.00      0.00        11\n",
      "        002       0.00      0.00      0.00         8\n",
      "        003       0.00      0.00      0.00         4\n",
      "        004       0.00      0.00      0.00         6\n",
      "        005       0.00      0.00      0.00         4\n",
      "        006       0.00      0.00      0.00         8\n",
      "        007       0.00      0.00      0.00         6\n",
      "        008       0.00      0.00      0.00         3\n",
      "        009       0.00      0.00      0.00         1\n",
      "        010       0.00      0.00      0.00         2\n",
      "        011       0.08      1.00      0.14        59\n",
      "        012       0.00      0.00      0.00         8\n",
      "        013       0.00      0.00      0.00        10\n",
      "        014       0.00      0.00      0.00        21\n",
      "        015       0.00      0.00      0.00        62\n",
      "        016       0.00      0.00      0.00         5\n",
      "        017       0.00      0.00      0.00        15\n",
      "        018       0.00      0.00      0.00        22\n",
      "        019       0.00      0.00      0.00        33\n",
      "        020       0.00      0.00      0.00         9\n",
      "        021       0.00      0.00      0.00         7\n",
      "        022       0.00      0.00      0.00        13\n",
      "        023       0.00      0.00      0.00        14\n",
      "        024       0.00      0.00      0.00        38\n",
      "        025       0.00      0.00      0.00        31\n",
      "        026       0.00      0.00      0.00        16\n",
      "        027       0.00      0.00      0.00         4\n",
      "        028       0.00      0.00      0.00        48\n",
      "        029       0.00      0.00      0.00        27\n",
      "        030       0.00      0.00      0.00        35\n",
      "        031       0.00      0.00      0.00         7\n",
      "        032       0.00      0.00      0.00         8\n",
      "        033       0.00      0.00      0.00         7\n",
      "        034       0.00      0.00      0.00         5\n",
      "        035       0.00      0.00      0.00         6\n",
      "        036       0.00      0.00      0.00         4\n",
      "        037       0.00      0.00      0.00        18\n",
      "        038       0.00      0.00      0.00         4\n",
      "        039       0.00      0.00      0.00         1\n",
      "        040       0.00      0.00      0.00         8\n",
      "        041       0.00      0.00      0.00        26\n",
      "        042       0.00      0.00      0.00         3\n",
      "        043       0.00      0.00      0.00         4\n",
      "        044       0.00      0.00      0.00         7\n",
      "        045       0.00      0.00      0.00        13\n",
      "        046       0.00      0.00      0.00         3\n",
      "        047       0.00      0.00      0.00         3\n",
      "        048       0.00      0.00      0.00         2\n",
      "        049       0.00      0.00      0.00         3\n",
      "        050       0.00      0.00      0.00        19\n",
      "        051       0.00      0.00      0.00        14\n",
      "        052       0.00      0.00      0.00         8\n",
      "        053       0.00      0.00      0.00         6\n",
      "        054       0.00      0.00      0.00        18\n",
      "        055       0.00      0.00      0.00        10\n",
      "        056       0.00      0.00      0.00        12\n",
      "        057       0.00      0.00      0.00         2\n",
      "        058       0.00      0.00      0.00         7\n",
      "        059       0.00      0.00      0.00         3\n",
      "        060       0.00      0.00      0.00         3\n",
      "        061       0.00      0.00      0.00         3\n",
      "        062       0.00      0.00      0.00         4\n",
      "\n",
      "avg / total       0.01      0.08      0.01       771\n",
      "\n"
     ]
    },
    {
     "name": "stderr",
     "output_type": "stream",
     "text": [
      "C:\\Users\\Richie Rozario\\Anaconda3\\lib\\site-packages\\sklearn\\metrics\\classification.py:1135: UndefinedMetricWarning: Precision and F-score are ill-defined and being set to 0.0 in labels with no predicted samples.\n",
      "  'precision', 'predicted', average, warn_for)\n"
     ]
    }
   ],
   "source": [
    "predictions = grid_search.predict(X_test)\n",
    "    \n",
    "print(classification_report(y_test, predictions))"
   ]
  },
  {
   "cell_type": "code",
   "execution_count": null,
   "metadata": {},
   "outputs": [],
   "source": []
  }
 ],
 "metadata": {
  "kernelspec": {
   "display_name": "Python 3",
   "language": "python",
   "name": "python3"
  },
  "language_info": {
   "codemirror_mode": {
    "name": "ipython",
    "version": 3
   },
   "file_extension": ".py",
   "mimetype": "text/x-python",
   "name": "python",
   "nbconvert_exporter": "python",
   "pygments_lexer": "ipython3",
   "version": "3.6.5"
  }
 },
 "nbformat": 4,
 "nbformat_minor": 2
}
