{
 "cells": [
  {
   "cell_type": "code",
   "execution_count": 12,
   "metadata": {},
   "outputs": [],
   "source": [
    "import os\n",
    "import numpy as np\n",
    "import cv2\n",
    "import pickle\n",
    "import matplotlib.pyplot as plt \n",
    "from sklearn.pipeline import Pipeline\n",
    "from sklearn.neighbors import KNeighborsClassifier\n",
    "from sklearn.model_selection import GridSearchCV\n",
    "from sklearn.svm import SVC\n",
    "from sklearn.model_selection import train_test_split\n",
    "from sklearn.metrics import classification_report \n",
    "from sklearn.externals.joblib import dump, load\n",
    "from skimage.feature import hog\n",
    "\n",
    "X = []\n",
    "y = []"
   ]
  },
  {
   "cell_type": "code",
   "execution_count": 13,
   "metadata": {},
   "outputs": [
    {
     "name": "stdout",
     "output_type": "stream",
     "text": [
      "(7705, 900, 1)\n"
     ]
    }
   ],
   "source": [
    "for path, subdirs, files in os.walk('dataset/English/Img/GoodImg/Bmp/'):\n",
    "    for filename in files:\n",
    "        f = os.path.join(path, filename)  # filename: 'img001-0004.png'\n",
    "        target = filename[3:filename.index('-')]  # target: 001\n",
    "        img = cv2.imread(f)  # load a color image into greyscale image\n",
    "        img = cv2.medianBlur(img,5) # median blur to remove salt & and pepper noise\n",
    "        img = cv2.cvtColor(img,cv2.COLOR_BGR2GRAY)\n",
    "        img = cv2.equalizeHist(img) # Equalize histogram\n",
    "        img_resized = cv2.resize(img,(30,30))\n",
    "        \n",
    "        X.append(img_resized.reshape(-1,1))\n",
    "        y.append(target)\n",
    "\n",
    "# Shape [7705, 900, 1] => 7705 ta sample, 900(30x30) hocche pixel values\n",
    "X = np.array(X)\n",
    "print(X.shape)\n",
    "X = X.reshape(X.shape[:2]) # just removing the singleton dimension. Now shape = [7705,900]"
   ]
  },
  {
   "cell_type": "code",
   "execution_count": 14,
   "metadata": {},
   "outputs": [],
   "source": [
    "X_train, X_test, y_train, y_test = train_test_split(X, y, test_size=.1)"
   ]
  },
  {
   "cell_type": "code",
   "execution_count": 15,
   "metadata": {},
   "outputs": [
    {
     "name": "stderr",
     "output_type": "stream",
     "text": [
      "c:\\program files\\python36\\lib\\site-packages\\sklearn\\model_selection\\_split.py:2053: FutureWarning: You should specify a value for 'cv' instead of relying on the default value. The default value will change from 3 to 5 in version 0.22.\n",
      "  warnings.warn(CV_WARNING, FutureWarning)\n",
      "[Parallel(n_jobs=3)]: Using backend LokyBackend with 3 concurrent workers.\n"
     ]
    },
    {
     "name": "stdout",
     "output_type": "stream",
     "text": [
      "Fitting 3 folds for each of 30 candidates, totalling 90 fits\n"
     ]
    },
    {
     "name": "stderr",
     "output_type": "stream",
     "text": [
      "[Parallel(n_jobs=3)]: Done  44 tasks      | elapsed: 43.6min\n",
      "[Parallel(n_jobs=3)]: Done  90 out of  90 | elapsed: 88.1min finished\n"
     ]
    },
    {
     "name": "stdout",
     "output_type": "stream",
     "text": [
      "training ended\n"
     ]
    }
   ],
   "source": [
    "pipeline = Pipeline([\n",
    "        ('clf', SVC(kernel='rbf', gamma=0.01, C=100))\n",
    "])\n",
    "\n",
    "parameters = {\n",
    "        'clf__gamma': (0.01, 0.03, 0.1, 0.3, 1),\n",
    "        'clf__C': (0.1, 0.3, 1, 3, 10, 30),\n",
    "}\n",
    "    \n",
    "grid_search = GridSearchCV(pipeline, parameters, n_jobs=3, verbose=1, scoring='accuracy')\n",
    "\n",
    "grid_search.fit(X_train, y_train)\n",
    "print(\"training ended\")"
   ]
  },
  {
   "cell_type": "code",
   "execution_count": 16,
   "metadata": {},
   "outputs": [
    {
     "name": "stdout",
     "output_type": "stream",
     "text": [
      "Best score: 0.073\n",
      "Test score: 0.078\n"
     ]
    }
   ],
   "source": [
    "dump(grid_search,'GridSearchMedianBlurWithHist.joblib') # save model\n",
    "\n",
    "# grid_search = load('GridSearchMedianBlur.joblib') # load the model.\n",
    "test_performance = grid_search.score(X_test, y_test)\n",
    "\n",
    "print('Best score: %0.3f' % grid_search.best_score_)\n",
    "print('Test score: %0.3f' % test_performance)"
   ]
  },
  {
   "cell_type": "code",
   "execution_count": 17,
   "metadata": {},
   "outputs": [
    {
     "name": "stdout",
     "output_type": "stream",
     "text": [
      "              precision    recall  f1-score   support\n",
      "\n",
      "         001       0.00      0.00      0.00         9\n",
      "         002       0.00      0.00      0.00         6\n",
      "         003       0.00      0.00      0.00         9\n",
      "         004       0.00      0.00      0.00         5\n",
      "         005       0.00      0.00      0.00         5\n",
      "         006       0.00      0.00      0.00         4\n",
      "         007       0.00      0.00      0.00         7\n",
      "         008       0.00      0.00      0.00         4\n",
      "         009       0.00      0.00      0.00         2\n",
      "         010       0.00      0.00      0.00         2\n",
      "         011       0.08      1.00      0.14        59\n",
      "         012       0.00      0.00      0.00        13\n",
      "         013       0.00      0.00      0.00        26\n",
      "         014       0.00      0.00      0.00        18\n",
      "         015       0.00      0.00      0.00        52\n",
      "         016       0.00      0.00      0.00         8\n",
      "         017       0.00      0.00      0.00        18\n",
      "         018       0.00      0.00      0.00        25\n",
      "         019       0.00      0.00      0.00        20\n",
      "         020       0.00      0.00      0.00        12\n",
      "         021       0.00      0.00      0.00        13\n",
      "         022       0.00      0.00      0.00        28\n",
      "         023       0.00      0.00      0.00        15\n",
      "         024       0.00      0.00      0.00        34\n",
      "         025       1.00      0.02      0.04        45\n",
      "         026       0.00      0.00      0.00         9\n",
      "         027       0.00      0.00      0.00         3\n",
      "         028       0.00      0.00      0.00        28\n",
      "         029       0.00      0.00      0.00        28\n",
      "         030       0.00      0.00      0.00        37\n",
      "         031       0.00      0.00      0.00        10\n",
      "         032       0.00      0.00      0.00        13\n",
      "         033       0.00      0.00      0.00         5\n",
      "         034       0.00      0.00      0.00         3\n",
      "         035       0.00      0.00      0.00         9\n",
      "         036       0.00      0.00      0.00         5\n",
      "         037       0.00      0.00      0.00        13\n",
      "         038       0.00      0.00      0.00         5\n",
      "         039       0.00      0.00      0.00         1\n",
      "         040       0.00      0.00      0.00         5\n",
      "         041       0.00      0.00      0.00        12\n",
      "         042       0.00      0.00      0.00         2\n",
      "         043       0.00      0.00      0.00         1\n",
      "         044       0.00      0.00      0.00        11\n",
      "         045       0.00      0.00      0.00        10\n",
      "         046       0.00      0.00      0.00         1\n",
      "         047       0.00      0.00      0.00         4\n",
      "         048       0.00      0.00      0.00         9\n",
      "         049       0.00      0.00      0.00         5\n",
      "         050       0.00      0.00      0.00        21\n",
      "         051       0.00      0.00      0.00        19\n",
      "         052       0.00      0.00      0.00         3\n",
      "         053       0.00      0.00      0.00         5\n",
      "         054       0.00      0.00      0.00        12\n",
      "         055       0.00      0.00      0.00        13\n",
      "         056       0.00      0.00      0.00        12\n",
      "         057       0.00      0.00      0.00         2\n",
      "         058       0.00      0.00      0.00         3\n",
      "         059       0.00      0.00      0.00         1\n",
      "         060       0.00      0.00      0.00         4\n",
      "         061       0.00      0.00      0.00         3\n",
      "         062       0.00      0.00      0.00         5\n",
      "\n",
      "   micro avg       0.08      0.08      0.08       771\n",
      "   macro avg       0.02      0.02      0.00       771\n",
      "weighted avg       0.06      0.08      0.01       771\n",
      "\n"
     ]
    },
    {
     "name": "stderr",
     "output_type": "stream",
     "text": [
      "c:\\program files\\python36\\lib\\site-packages\\sklearn\\metrics\\classification.py:1143: UndefinedMetricWarning: Precision and F-score are ill-defined and being set to 0.0 in labels with no predicted samples.\n",
      "  'precision', 'predicted', average, warn_for)\n"
     ]
    }
   ],
   "source": [
    "predictions = grid_search.predict(X_test)\n",
    "    \n",
    "print(classification_report(y_test, predictions))"
   ]
  },
  {
   "cell_type": "code",
   "execution_count": 18,
   "metadata": {},
   "outputs": [
    {
     "name": "stdout",
     "output_type": "stream",
     "text": [
      "Training ended\n"
     ]
    }
   ],
   "source": [
    "model2 = KNeighborsClassifier(n_neighbors=3)\n",
    "model2.fit(X_train, y_train)\n",
    "print(\"Training ended\")"
   ]
  },
  {
   "cell_type": "code",
   "execution_count": 19,
   "metadata": {},
   "outputs": [
    {
     "name": "stdout",
     "output_type": "stream",
     "text": [
      "Test score: 0.553\n"
     ]
    }
   ],
   "source": [
    "test_performance = model2.score(X_test, y_test)\n",
    "\n",
    "print('Test score: %0.3f' % test_performance)"
   ]
  }
 ],
 "metadata": {
  "kernelspec": {
   "display_name": "Python 3",
   "language": "python",
   "name": "python3"
  },
  "language_info": {
   "codemirror_mode": {
    "name": "ipython",
    "version": 3
   },
   "file_extension": ".py",
   "mimetype": "text/x-python",
   "name": "python",
   "nbconvert_exporter": "python",
   "pygments_lexer": "ipython3",
   "version": "3.6.5"
  }
 },
 "nbformat": 4,
 "nbformat_minor": 2
}
