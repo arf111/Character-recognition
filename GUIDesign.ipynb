{
 "cells": [
  {
   "cell_type": "code",
   "execution_count": 51,
   "metadata": {},
   "outputs": [],
   "source": [
    "from tkinter import *\n",
    "from tkinter import filedialog as fd\n",
    "from tkinter import messagebox as ms\n",
    "import PIL \n",
    "from PIL import ImageTk, Image\n",
    " \n",
    "#Main Class Object\n",
    "class application:\n",
    "    def __init__(self,master):\n",
    "        self.master = master\n",
    "        self.c_size = (500,500)\n",
    "        self.setup_gui(self.c_size)\n",
    "        self.img=None\n",
    " \n",
    "    def setup_gui(self,s):\n",
    "        Label(self.master,text = 'Image Viewer',pady=5,bg='white',font=('Ubuntu',20)).pack()\n",
    "        self.canvas = Canvas(self.master,height=s[1],width=s[0],bg='black',bd=10,relief='ridge')\n",
    "        self.canvas.pack()\n",
    "        f=Frame(self.master,bg='white',padx=10,pady=10)\n",
    "        Button(f,text='Open Image',bd=2,fg='black',bg='grey',font=('',15),command=self.make_image).pack(side=LEFT)\n",
    "        menu = Menu(f)\n",
    "        self.master.config(menu=menu)\n",
    "        submenu = Menu(menu)\n",
    "        menu.add_cascade(label='Preprocessing', menu = submenu)\n",
    "        Button(f,text='Save Image',bd=2,fg='black',bg='grey',font=('',15),command=self.save_image).pack(side=LEFT)\n",
    "        f.pack()\n",
    "        self.status=Label(self.master,text = 'Current Image: None',bg='gray',font=('Ubuntu',10),bd=2,fg='black',relief='sunken',anchor=W)\n",
    "        self.status.pack(side=BOTTOM,fill=X)\n",
    " \n",
    " \n",
    "    def make_image(self):\n",
    "        try:\n",
    "            File = fd.askopenfilename()\n",
    "            self.pilImage = Image.open(File)\n",
    "            re=self.pilImage.resize((500,500),Image.ANTIALIAS)\n",
    "            self.img = ImageTk.PhotoImage(re)\n",
    "            self.canvas.delete(ALL)\n",
    "            self.canvas.create_image(self.c_size[0]/2+10,self.c_size[1]/2+10,anchor=CENTER,image=self.img)\n",
    "            self.status['text']='Current Image:'+File\n",
    "        except:\n",
    "            ms.showerror('Error!','File type is unsupported.')\n",
    "            \n",
    "    def save_image(self):\n",
    "        self.pilImage.save(\"NewImage.jpg\")\n",
    " \n",
    "#creating object of class and tk window-\n",
    "root=Tk()\n",
    "root.configure(bg='white')\n",
    "root.title('Text Recognition')\n",
    "application(root)\n",
    "root.resizable(0,0)\n",
    "root.mainloop()"
   ]
  },
  {
   "cell_type": "code",
   "execution_count": null,
   "metadata": {},
   "outputs": [],
   "source": []
  }
 ],
 "metadata": {
  "kernelspec": {
   "display_name": "Python 3",
   "language": "python",
   "name": "python3"
  },
  "language_info": {
   "codemirror_mode": {
    "name": "ipython",
    "version": 3
   },
   "file_extension": ".py",
   "mimetype": "text/x-python",
   "name": "python",
   "nbconvert_exporter": "python",
   "pygments_lexer": "ipython3",
   "version": "3.6.5"
  }
 },
 "nbformat": 4,
 "nbformat_minor": 2
}
