{
 "cells": [
  {
   "cell_type": "code",
   "execution_count": 161,
   "metadata": {},
   "outputs": [],
   "source": [
    "import os\n",
    "import numpy as np\n",
    "import cv2\n",
    "import pickle\n",
    "import matplotlib.pyplot as plt \n",
    "from sklearn.pipeline import Pipeline\n",
    "from sklearn.neighbors import KNeighborsClassifier\n",
    "from sklearn.model_selection import train_test_split\n",
    "from sklearn.metrics import classification_report \n",
    "from sklearn.externals.joblib import dump, load\n",
    "from skimage.feature import hog\n",
    "\n",
    "X = []\n",
    "y = []"
   ]
  },
  {
   "cell_type": "code",
   "execution_count": 162,
   "metadata": {},
   "outputs": [
    {
     "name": "stdout",
     "output_type": "stream",
     "text": [
      "(7705, 900, 1)\n"
     ]
    }
   ],
   "source": [
    "for path, subdirs, files in os.walk('dataset/English/Img/GoodImg/Bmp/'):\n",
    "    for filename in files:\n",
    "        f = os.path.join(path, filename)  # filename: 'img001-0004.png'\n",
    "        target = filename[3:filename.index('-')]  # target: 001\n",
    "        img = cv2.imread(f)  # load a color image into greyscale image\n",
    "        img = cv2.medianBlur(img,5) # median blur to remove salt & and pepper noise\n",
    "        img = cv2.cvtColor(img,cv2.COLOR_BGR2GRAY)\n",
    "        img = cv2.equalizeHist(img)\n",
    "        img_resized = cv2.resize(img,(30,30))\n",
    "        \n",
    "        X.append(img_resized.reshape(-1,1))\n",
    "        y.append(target)\n",
    "\n",
    "# Shape [7705, 900, 1] => 7705 ta sample, 900(30x30) hocche pixel values\n",
    "X = np.array(X)\n",
    "print(X.shape)\n",
    "X = X.reshape(X.shape[:2]) # just removing the singleton dimension. Now shape = [7705,900]"
   ]
  },
  {
   "cell_type": "code",
   "execution_count": 163,
   "metadata": {},
   "outputs": [],
   "source": [
    "X_train, X_test, y_train, y_test = train_test_split(X, y, test_size=.1)"
   ]
  },
  {
   "cell_type": "code",
   "execution_count": 164,
   "metadata": {},
   "outputs": [
    {
     "name": "stdout",
     "output_type": "stream",
     "text": [
      "Training ended\n"
     ]
    }
   ],
   "source": [
    "model = KNeighborsClassifier(n_neighbors=3)\n",
    "model.fit(X_train, y_train)\n",
    "print(\"Training ended\")"
   ]
  },
  {
   "cell_type": "code",
   "execution_count": 165,
   "metadata": {},
   "outputs": [
    {
     "name": "stdout",
     "output_type": "stream",
     "text": [
      "Test score: 0.564\n"
     ]
    }
   ],
   "source": [
    "# dump(model,'KNNwithBlur.joblib') # save model\n",
    "\n",
    "# model = load('KNNwithBlur.joblib') # load the model.\n",
    "\n",
    "test_performance = model.score(X_test, y_test)\n",
    "\n",
    "print('Test score: %0.3f' % test_performance)"
   ]
  }
 ],
 "metadata": {
  "kernelspec": {
   "display_name": "Python 3",
   "language": "python",
   "name": "python3"
  },
  "language_info": {
   "codemirror_mode": {
    "name": "ipython",
    "version": 3
   },
   "file_extension": ".py",
   "mimetype": "text/x-python",
   "name": "python",
   "nbconvert_exporter": "python",
   "pygments_lexer": "ipython3",
   "version": "3.6.5"
  }
 },
 "nbformat": 4,
 "nbformat_minor": 2
}
