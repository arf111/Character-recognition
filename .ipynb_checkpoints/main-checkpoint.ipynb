{
 "cells": [
  {
   "cell_type": "code",
   "execution_count": 5,
   "metadata": {},
   "outputs": [],
   "source": [
    "import os\n",
    "import numpy as np\n",
    "import cv2\n",
    "import pickle\n",
    "import matplotlib.pyplot as plt \n",
    "from sklearn.pipeline import Pipeline\n",
    "from sklearn.neighbors import KNeighborsClassifier\n",
    "from sklearn.model_selection import GridSearchCV\n",
    "from sklearn.svm import SVC\n",
    "from sklearn.model_selection import train_test_split\n",
    "from sklearn.metrics import classification_report \n",
    "from sklearn.externals.joblib import dump, load\n",
    "from skimage.feature import hog\n",
    "\n",
    "X = []\n",
    "y = []"
   ]
  },
  {
   "cell_type": "code",
   "execution_count": 6,
   "metadata": {},
   "outputs": [
    {
     "name": "stdout",
     "output_type": "stream",
     "text": [
      "(7705, 288, 1)\n"
     ]
    }
   ],
   "source": [
    "for path, subdirs, files in os.walk('dataset/English/Img/GoodImg/Bmp/'):\n",
    "    for filename in files:\n",
    "        f = os.path.join(path, filename)  # filename: 'img001-0004.png'\n",
    "        target = filename[3:filename.index('-')]  # target: 001\n",
    "        img = cv2.imread(f)  # load a color image into greyscale image\n",
    "        img = cv2.medianBlur(img,5) # median blur to remove salt & and pepper noise\n",
    "        img = cv2.cvtColor(img,cv2.COLOR_BGR2GRAY)\n",
    "        img = cv2.equalizeHist(img) # Equalize histogram\n",
    "        img_resized = cv2.resize(img,(30,30))\n",
    "        \n",
    "        X.append(img_resized.reshape(-1,1))\n",
    "        y.append(target)\n",
    "\n",
    "# Shape [7705, 900, 1] => 7705 ta sample, 900(30x30) hocche pixel values\n",
    "X = np.array(X)\n",
    "print(X.shape)\n",
    "X = X.reshape(X.shape[:2]) # just removing the singleton dimension. Now shape = [7705,900]"
   ]
  },
  {
   "cell_type": "code",
   "execution_count": 7,
   "metadata": {},
   "outputs": [],
   "source": [
    "X_train, X_test, y_train, y_test = train_test_split(X, y, test_size=.1)"
   ]
  },
  {
   "cell_type": "code",
   "execution_count": 8,
   "metadata": {},
   "outputs": [
    {
     "name": "stdout",
     "output_type": "stream",
     "text": [
      "Fitting 3 folds for each of 30 candidates, totalling 90 fits\n"
     ]
    },
    {
     "name": "stderr",
     "output_type": "stream",
     "text": [
      "c:\\program files\\python36\\lib\\site-packages\\sklearn\\model_selection\\_split.py:2053: FutureWarning: You should specify a value for 'cv' instead of relying on the default value. The default value will change from 3 to 5 in version 0.22.\n",
      "  warnings.warn(CV_WARNING, FutureWarning)\n",
      "[Parallel(n_jobs=3)]: Using backend LokyBackend with 3 concurrent workers.\n",
      "[Parallel(n_jobs=3)]: Done  44 tasks      | elapsed: 10.6min\n",
      "[Parallel(n_jobs=3)]: Done  90 out of  90 | elapsed: 19.9min finished\n"
     ]
    },
    {
     "name": "stdout",
     "output_type": "stream",
     "text": [
      "training ended\n"
     ]
    }
   ],
   "source": [
    "pipeline = Pipeline([\n",
    "        ('clf', SVC(kernel='rbf', gamma=0.01, C=100))\n",
    "])\n",
    "\n",
    "parameters = {\n",
    "        'clf__gamma': (0.01, 0.03, 0.1, 0.3, 1),\n",
    "        'clf__C': (0.1, 0.3, 1, 3, 10, 30),\n",
    "}\n",
    "    \n",
    "grid_search = GridSearchCV(pipeline, parameters, n_jobs=3, verbose=1, scoring='accuracy')\n",
    "\n",
    "grid_search.fit(X_train, y_train)\n",
    "print(\"training ended\")"
   ]
  },
  {
   "cell_type": "code",
   "execution_count": 10,
   "metadata": {},
   "outputs": [
    {
     "name": "stdout",
     "output_type": "stream",
     "text": [
      "Best score: 0.777\n",
      "Test score: 0.799\n"
     ]
    }
   ],
   "source": [
    "dump(grid_search,'GridSearchMedianBlurWithHist.joblib') # save model\n",
    "\n",
    "# grid_search = load('GridSearchMedianBlur.joblib') # load the model.\n",
    "test_performance = grid_search.score(X_test, y_test)\n",
    "\n",
    "print('Best score: %0.3f' % grid_search.best_score_)\n",
    "print('Test score: %0.3f' % test_performance)"
   ]
  },
  {
   "cell_type": "code",
   "execution_count": 11,
   "metadata": {},
   "outputs": [
    {
     "name": "stdout",
     "output_type": "stream",
     "text": [
      "              precision    recall  f1-score   support\n",
      "\n",
      "         001       0.50      0.29      0.36        14\n",
      "         002       1.00      0.44      0.62         9\n",
      "         003       0.50      0.67      0.57         3\n",
      "         004       1.00      0.67      0.80         6\n",
      "         005       1.00      0.67      0.80         3\n",
      "         006       1.00      1.00      1.00         4\n",
      "         007       1.00      0.83      0.91         6\n",
      "         008       1.00      0.67      0.80         6\n",
      "         009       0.50      1.00      0.67         1\n",
      "         010       0.00      0.00      0.00         0\n",
      "         011       0.91      0.96      0.94        55\n",
      "         012       0.91      1.00      0.95        10\n",
      "         013       0.75      0.75      0.75        20\n",
      "         014       0.86      0.95      0.90        19\n",
      "         015       0.80      0.95      0.87        39\n",
      "         016       1.00      0.71      0.83         7\n",
      "         017       0.90      0.75      0.82        12\n",
      "         018       0.86      1.00      0.92        12\n",
      "         019       0.68      0.83      0.75        30\n",
      "         020       0.54      0.78      0.64         9\n",
      "         021       0.88      0.88      0.88         8\n",
      "         022       0.85      0.89      0.87        19\n",
      "         023       0.95      0.95      0.95        19\n",
      "         024       0.96      0.98      0.97        44\n",
      "         025       0.58      0.78      0.67        37\n",
      "         026       0.95      0.90      0.92        20\n",
      "         027       1.00      0.25      0.40         4\n",
      "         028       0.90      0.86      0.88        42\n",
      "         029       0.65      0.85      0.74        33\n",
      "         030       0.79      0.87      0.83        31\n",
      "         031       0.88      0.70      0.78        10\n",
      "         032       0.55      0.86      0.67         7\n",
      "         033       0.57      0.67      0.62         6\n",
      "         034       0.90      0.82      0.86        11\n",
      "         036       0.67      0.57      0.62         7\n",
      "         037       0.95      0.90      0.93        21\n",
      "         038       1.00      0.75      0.86         4\n",
      "         039       0.75      0.50      0.60         6\n",
      "         040       1.00      0.75      0.86         4\n",
      "         041       0.84      0.88      0.86        24\n",
      "         042       1.00      1.00      1.00         4\n",
      "         043       0.75      0.75      0.75         4\n",
      "         044       0.71      1.00      0.83         5\n",
      "         045       0.78      0.78      0.78        18\n",
      "         046       1.00      0.75      0.86         4\n",
      "         047       0.00      0.00      0.00         1\n",
      "         048       0.00      0.00      0.00         4\n",
      "         049       1.00      0.60      0.75         5\n",
      "         050       0.92      0.85      0.88        13\n",
      "         051       0.50      0.45      0.48        11\n",
      "         052       0.67      0.40      0.50         5\n",
      "         053       0.60      0.50      0.55         6\n",
      "         054       0.87      0.93      0.90        14\n",
      "         055       0.50      0.27      0.35        15\n",
      "         056       0.88      1.00      0.94        15\n",
      "         057       0.67      0.50      0.57         4\n",
      "         058       0.00      0.00      0.00         6\n",
      "         059       1.00      0.40      0.57         5\n",
      "         060       1.00      0.20      0.33         5\n",
      "         061       0.67      1.00      0.80         2\n",
      "         062       0.00      0.00      0.00         3\n",
      "\n",
      "   micro avg       0.80      0.80      0.80       771\n",
      "   macro avg       0.75      0.69      0.70       771\n",
      "weighted avg       0.80      0.80      0.79       771\n",
      "\n"
     ]
    },
    {
     "name": "stderr",
     "output_type": "stream",
     "text": [
      "c:\\program files\\python36\\lib\\site-packages\\sklearn\\metrics\\classification.py:1143: UndefinedMetricWarning: Precision and F-score are ill-defined and being set to 0.0 in labels with no predicted samples.\n",
      "  'precision', 'predicted', average, warn_for)\n",
      "c:\\program files\\python36\\lib\\site-packages\\sklearn\\metrics\\classification.py:1145: UndefinedMetricWarning: Recall and F-score are ill-defined and being set to 0.0 in labels with no true samples.\n",
      "  'recall', 'true', average, warn_for)\n"
     ]
    }
   ],
   "source": [
    "predictions = grid_search.predict(X_test)\n",
    "    \n",
    "print(classification_report(y_test, predictions))"
   ]
  },
  {
   "cell_type": "code",
   "execution_count": null,
   "metadata": {},
   "outputs": [],
   "source": [
    "model2 = KNeighborsClassifier(n_neighbors=3)\n",
    "model2.fit(X_train, y_train)\n",
    "print(\"Training ended\")"
   ]
  },
  {
   "cell_type": "code",
   "execution_count": null,
   "metadata": {},
   "outputs": [],
   "source": [
    "test_performance = model2.score(X_test, y_test)\n",
    "\n",
    "print('Test score: %0.3f' % test_performance)"
   ]
  }
 ],
 "metadata": {
  "kernelspec": {
   "display_name": "Python 3",
   "language": "python",
   "name": "python3"
  },
  "language_info": {
   "codemirror_mode": {
    "name": "ipython",
    "version": 3
   },
   "file_extension": ".py",
   "mimetype": "text/x-python",
   "name": "python",
   "nbconvert_exporter": "python",
   "pygments_lexer": "ipython3",
   "version": "3.6.5"
  }
 },
 "nbformat": 4,
 "nbformat_minor": 2
}
